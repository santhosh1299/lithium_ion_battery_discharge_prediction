{
 "cells": [
  {
   "cell_type": "code",
   "execution_count": 41,
   "metadata": {
    "vscode": {
     "languageId": "r"
    }
   },
   "outputs": [
    {
     "name": "stderr",
     "output_type": "stream",
     "text": [
      "Warning message in asMethod(object):\n",
      "\"removing duplicated items in transactions\"\n"
     ]
    },
    {
     "data": {
      "text/plain": [
       "transactions in sparse format with\n",
       " 432 transactions (rows) and\n",
       " 20 items (columns)"
      ]
     },
     "metadata": {},
     "output_type": "display_data"
    }
   ],
   "source": [
    "library(arules)\n",
    "library(arulesViz)\n",
    "\n",
    "data <- read.transactions(\"multibattery_token_filter.csv\",\n",
    "                           rm.duplicates = FALSE, \n",
    "                           format = \"basket\",  ##if you use \"single\" also use cols=c(1,2)\n",
    "                           sep=\",\",  ## csv file\n",
    "                           cols=1)\n",
    "data"
   ]
  },
  {
   "cell_type": "code",
   "execution_count": 2,
   "metadata": {
    "vscode": {
     "languageId": "r"
    }
   },
   "outputs": [],
   "source": [
    "data <- data[1:20]"
   ]
  },
  {
   "cell_type": "code",
   "execution_count": 42,
   "metadata": {
    "vscode": {
     "languageId": "r"
    }
   },
   "outputs": [
    {
     "name": "stdout",
     "output_type": "stream",
     "text": [
      "      items                      transactionID\n",
      "[1]   {battery, iphone}          apple        \n",
      "[2]   {}                         battery      \n",
      "[3]   {apple}                    best         \n",
      "[4]   {}                         review       \n",
      "[5]   {pro}                      apple        \n",
      "[6]   {iphone}                   phone        \n",
      "[7]   {pro}                      apple        \n",
      "[8]   {}                         battery      \n",
      "[9]   {}                         new          \n",
      "[10]  {}                         u            \n",
      "[11]  {}                         new          \n",
      "[12]  {new}                      galaxy       \n",
      "[13]  {iphone, pro}              apple        \n",
      "[14]  {}                         pro          \n",
      "[15]  {best, review}             pro          \n",
      "[16]  {galaxy}                   samsung      \n",
      "[17]  {galaxy}                   samsung      \n",
      "[18]  {}                         review       \n",
      "[19]  {battery, iphone}          apple        \n",
      "[20]  {}                         apple        \n",
      "[21]  {galaxy, samsung}          apple        \n",
      "[22]  {}                         battery      \n",
      "[23]  {}                         phone        \n",
      "[24]  {}                         apple        \n",
      "[25]  {}                         pro          \n",
      "[26]  {power}                    u            \n",
      "[27]  {}                         review       \n",
      "[28]  {}                         review       \n",
      "[29]  {portable}                 power        \n",
      "[30]  {}                         portable     \n",
      "[31]  {}                         electric     \n",
      "[32]  {}                         power        \n",
      "[33]  {galaxy, pro, samsung}     iphone       \n",
      "[34]  {portable}                 best         \n",
      "[35]  {}                         pro          \n",
      "[36]  {car, portable}            best         \n",
      "[37]  {pro}                      best         \n",
      "[38]  {}                         new          \n",
      "[39]  {}                         review       \n",
      "[40]  {}                         phone        \n",
      "[41]  {phone}                    u            \n",
      "[42]  {}                         new          \n",
      "[43]  {}                         battery      \n",
      "[44]  {battery, iphone}          apple        \n",
      "[45]  {battery}                  iphone       \n",
      "[46]  {battery, iphone, new}     apple        \n",
      "[47]  {}                         new          \n",
      "[48]  {best}                     apple        \n",
      "[49]  {power}                    new          \n",
      "[50]  {iphone, u}                apple        \n",
      "[51]  {}                         pro          \n",
      "[52]  {}                         apple        \n",
      "[53]  {apple}                    best         \n",
      "[54]  {apple}                    deal         \n",
      "[55]  {}                         new          \n",
      "[56]  {}                         apple        \n",
      "[57]  {}                         iphone       \n",
      "[58]  {deal}                     best         \n",
      "[59]  {apple, best, deal, pro}   iphone       \n",
      "[60]  {apple, deal, pro}         best         \n",
      "[61]  {}                         power        \n",
      "[62]  {galaxy}                   samsung      \n",
      "[63]  {battery, galaxy}          samsung      \n",
      "[64]  {battery, galaxy}          samsung      \n",
      "[65]  {review}                   pro          \n",
      "[66]  {}                         review       \n",
      "[67]  {battery}                  new          \n",
      "[68]  {galaxy}                   review       \n",
      "[69]  {}                         best         \n",
      "[70]  {review}                   battery      \n",
      "[71]  {power, review}            pro          \n",
      "[72]  {phone}                    best         \n",
      "[73]  {}                         car          \n",
      "[74]  {battery}                  power        \n",
      "[75]  {review}                   battery      \n",
      "[76]  {}                         battery      \n",
      "[77]  {market, u}                market       \n",
      "[78]  {}                         electric     \n",
      "[79]  {battery}                  u            \n",
      "[80]  {}                         car          \n",
      "[81]  {}                         reserve      \n",
      "[82]  {reserve}                  speed        \n",
      "[83]  {}                         reserve      \n",
      "[84]  {battery}                  iphone       \n",
      "[85]  {}                         review       \n",
      "[86]  {battery}                  ev           \n",
      "[87]  {}                         ev           \n",
      "[88]  {}                         galaxy       \n",
      "[89]  {u}                        galaxy       \n",
      "[90]  {galaxy, samsung}          new          \n",
      "[91]  {}                         car          \n",
      "[92]  {ev}                       electric     \n",
      "[93]  {}                         iphone       \n",
      "[94]  {}                         best         \n",
      "[95]  {battery, iphone}          iphone       \n",
      "[96]  {}                         new          \n",
      "[97]  {ev}                       ev           \n",
      "[98]  {ev, new}                  u            \n",
      "[99]  {}                         electric     \n",
      "[100] {battery}                  ev           \n",
      "[101] {}                         best         \n",
      "[102] {}                         best         \n",
      "[103] {}                         battery      \n",
      "[104] {car, market, new}         ev           \n",
      "[105] {galaxy}                   samsung      \n",
      "[106] {ev}                       battery      \n",
      "[107] {}                         ev           \n",
      "[108] {}                         phone        \n",
      "[109] {battery}                  phone        \n",
      "[110] {}                         power        \n",
      "[111] {}                         battery      \n",
      "[112] {galaxy}                   samsung      \n",
      "[113] {battery}                  battery      \n",
      "[114] {battery, speed}           new          \n",
      "[115] {}                         power        \n",
      "[116] {}                         electric     \n",
      "[117] {battery, speed}           new          \n",
      "[118] {}                         electric     \n",
      "[119] {}                         battery      \n",
      "[120] {market, u}                ev           \n",
      "[121] {}                         battery      \n",
      "[122] {}                         pro          \n",
      "[123] {ev}                       u            \n",
      "[124] {}                         ev           \n",
      "[125] {pro}                      car          \n",
      "[126] {car, new}                 deal         \n",
      "[127] {car, phone, review}       car          \n",
      "[128] {}                         new          \n",
      "[129] {}                         ev           \n",
      "[130] {}                         car          \n",
      "[131] {}                         review       \n",
      "[132] {}                         review       \n",
      "[133] {}                         new          \n",
      "[134] {}                         best         \n",
      "[135] {portable}                 best         \n",
      "[136] {}                         review       \n",
      "[137] {}                         car          \n",
      "[138] {}                         review       \n",
      "[139] {}                         review       \n",
      "[140] {}                         electric     \n",
      "[141] {ev}                       car          \n",
      "[142] {car}                      ev           \n",
      "[143] {car}                      electric     \n",
      "[144] {}                         ev           \n",
      "[145] {}                         electric     \n",
      "[146] {market, speed}            electric     \n",
      "[147] {}                         review       \n",
      "[148] {market}                   electric     \n",
      "[149] {}                         best         \n",
      "[150] {}                         car          \n",
      "[151] {}                         ev           \n",
      "[152] {}                         review       \n",
      "[153] {}                         review       \n",
      "[154] {car}                      review       \n",
      "[155] {deal, review}             pro          \n",
      "[156] {}                         review       \n",
      "[157] {}                         power        \n",
      "[158] {}                         review       \n",
      "[159] {}                         phone        \n",
      "[160] {portable}                 power        \n",
      "[161] {}                         new          \n",
      "[162] {}                         pro          \n",
      "[163] {}                         deal         \n",
      "[164] {battery, ev}              ev           \n",
      "[165] {}                         battery      \n",
      "[166] {electric}                 car          \n",
      "[167] {}                         ev           \n",
      "[168] {ev}                       electric     \n",
      "[169] {car, ev}                  electric     \n",
      "[170] {car}                      electric     \n",
      "[171] {electric}                 new          \n",
      "[172] {}                         electric     \n",
      "[173] {}                         electric     \n",
      "[174] {review}                   electric     \n",
      "[175] {}                         new          \n",
      "[176] {}                         ev           \n",
      "[177] {}                         electric     \n",
      "[178] {}                         new          \n",
      "[179] {}                         ev           \n",
      "[180] {}                         pro          \n",
      "[181] {apple}                    apple        \n",
      "[182] {car, deal}                new          \n",
      "[183] {}                         electric     \n",
      "[184] {}                         review       \n",
      "[185] {}                         ev           \n",
      "[186] {ev}                       car          \n",
      "[187] {}                         electric     \n",
      "[188] {}                         review       \n",
      "[189] {}                         car          \n",
      "[190] {}                         car          \n",
      "[191] {}                         ev           \n",
      "[192] {}                         ev           \n",
      "[193] {}                         electric     \n",
      "[194] {}                         ev           \n",
      "[195] {}                         ev           \n",
      "[196] {}                         power        \n",
      "[197] {}                         u            \n",
      "[198] {market}                   ev           \n",
      "[199] {}                         new          \n",
      "[200] {}                         review       \n",
      "[201] {electric}                 deal         \n",
      "[202] {car}                      best         \n",
      "[203] {apple, deal}              best         \n",
      "[204] {}                         speed        \n",
      "[205] {portable}                 power        \n",
      "[206] {}                         new          \n",
      "[207] {pro}                      deal         \n",
      "[208] {review}                   pro          \n",
      "[209] {portable, power}          battery      \n",
      "[210] {}                         best         \n",
      "[211] {}                         best         \n",
      "[212] {}                         review       \n",
      "[213] {}                         portable     \n",
      "[214] {phone}                    power        \n",
      "[215] {}                         review       \n",
      "[216] {}                         power        \n",
      "[217] {}                         review       \n",
      "[218] {battery}                  portable     \n",
      "[219] {}                         best         \n",
      "[220] {}                         best         \n",
      "[221] {review}                   best         \n",
      "[222] {}                         best         \n",
      "[223] {}                         best         \n",
      "[224] {}                         best         \n",
      "[225] {electric}                 portable     \n",
      "[226] {}                         review       \n",
      "[227] {}                         review       \n",
      "[228] {review}                   pro          \n",
      "[229] {galaxy}                   best         \n",
      "[230] {phone}                    best         \n",
      "[231] {}                         new          \n",
      "[232] {apple}                    review       \n",
      "[233] {deal}                     best         \n",
      "[234] {}                         deal         \n",
      "[235] {}                         best         \n",
      "[236] {}                         review       \n",
      "[237] {}                         portable     \n",
      "[238] {power}                    review       \n",
      "[239] {iphone}                   power        \n",
      "[240] {}                         review       \n",
      "[241] {phone}                    portable     \n",
      "[242] {new, pro}                 apple        \n",
      "[243] {}                         best         \n",
      "[244] {}                         u            \n",
      "[245] {}                         new          \n",
      "[246] {}                         portable     \n",
      "[247] {battery}                  electric     \n",
      "[248] {battery}                  best         \n",
      "[249] {pro}                      apple        \n",
      "[250] {phone, pro}               phone        \n",
      "[251] {u}                        galaxy       \n",
      "[252] {}                         galaxy       \n",
      "[253] {}                         pro          \n",
      "[254] {phone}                    samsung      \n",
      "[255] {}                         battery      \n",
      "[256] {battery, market}          electric     \n",
      "[257] {battery}                  battery      \n",
      "[258] {}                         battery      \n",
      "[259] {}                         market       \n",
      "[260] {deal, ev}                 power        \n",
      "[261] {car}                      ev           \n",
      "[262] {}                         electric     \n",
      "[263] {electric}                 best         \n",
      "[264] {}                         ev           \n",
      "[265] {}                         electric     \n",
      "[266] {car}                      electric     \n",
      "[267] {}                         best         \n",
      "[268] {}                         portable     \n",
      "[269] {}                         deal         \n",
      "[270] {car}                      deal         \n",
      "[271] {iphone}                   power        \n",
      "[272] {}                         review       \n",
      "[273] {battery, portable, power} new          \n",
      "[274] {}                         ev           \n",
      "[275] {new, pro}                 apple        \n",
      "[276] {battery, iphone}          apple        \n",
      "[277] {new}                      apple        \n",
      "[278] {apple, pro}               best         \n",
      "[279] {}                         battery      \n",
      "[280] {deal}                     power        \n",
      "[281] {}                         battery      \n",
      "[282] {market}                   battery      \n",
      "[283] {}                         u            \n",
      "[284] {power}                    new          \n",
      "[285] {ev}                       new          \n",
      "[286] {car}                      speed        \n",
      "[287] {reserve}                  electric     \n",
      "[288] {}                         reserve      \n",
      "[289] {reserve}                  speed        \n",
      "[290] {}                         speed        \n",
      "[291] {}                         speed        \n",
      "[292] {}                         speed        \n",
      "[293] {}                         review       \n",
      "[294] {car}                      electric     \n",
      "[295] {car}                      electric     \n",
      "[296] {battery, power}           pro          \n",
      "[297] {}                         phone        \n",
      "[298] {apple}                    iphone       \n",
      "[299] {}                         best         \n",
      "[300] {power}                    portable     \n",
      "[301] {}                         power        \n",
      "[302] {}                         power        \n",
      "[303] {}                         new          \n",
      "[304] {pro}                      apple        \n",
      "[305] {}                         review       \n",
      "[306] {battery, iphone}          new          \n",
      "[307] {galaxy}                   samsung      \n",
      "[308] {}                         electric     \n",
      "[309] {}                         electric     \n",
      "[310] {}                         power        \n",
      "[311] {power}                    battery      \n",
      "[312] {}                         new          \n",
      "[313] {pro}                      battery      \n",
      "[314] {battery, iphone}          apple        \n",
      "[315] {new}                      new          \n",
      "[316] {deal, galaxy}             samsung      \n",
      "[317] {}                         power        \n",
      "[318] {}                         power        \n",
      "[319] {galaxy}                   samsung      \n",
      "[320] {}                         apple        \n",
      "[321] {}                         review       \n",
      "[322] {}                         power        \n",
      "[323] {review}                   power        \n",
      "[324] {}                         power        \n",
      "[325] {market}                   electric     \n",
      "[326] {market}                   market       \n",
      "[327] {}                         market       \n",
      "[328] {}                         market       \n",
      "[329] {}                         market       \n",
      "[330] {market}                   market       \n",
      "[331] {}                         market       \n",
      "[332] {}                         market       \n",
      "[333] {}                         speed        \n",
      "[334] {}                         reserve      \n",
      "[335] {}                         reserve      \n",
      "[336] {reserve}                  speed        \n",
      "[337] {}                         reserve      \n",
      "[338] {}                         speed        \n",
      "[339] {reserve}                  speed        \n",
      "[340] {reserve}                  speed        \n",
      "[341] {}                         reserve      \n",
      "[342] {}                         speed        \n",
      "[343] {}                         speed        \n",
      "[344] {}                         speed        \n",
      "[345] {}                         reserve      \n",
      "[346] {}                         reserve      \n",
      "[347] {}                         reserve      \n",
      "[348] {}                         speed        \n",
      "[349] {market}                   car          \n",
      "[350] {}                         reserve      \n",
      "[351] {}                         speed        \n",
      "[352] {reserve}                  speed        \n",
      "[353] {}                         speed        \n",
      "[354] {ev}                       new          \n",
      "[355] {}                         review       \n",
      "[356] {}                         portable     \n",
      "[357] {new, power}               portable     \n",
      "[358] {power}                    portable     \n",
      "[359] {}                         power        \n",
      "[360] {}                         power        \n",
      "[361] {}                         portable     \n",
      "[362] {}                         portable     \n",
      "[363] {}                         power        \n",
      "[364] {}                         portable     \n",
      "[365] {power}                    pro          \n",
      "[366] {}                         ev           \n",
      "[367] {}                         portable     \n",
      "[368] {}                         deal         \n",
      "[369] {best}                     best         \n",
      "[370] {power}                    portable     \n",
      "[371] {}                         power        \n",
      "[372] {galaxy, u}                samsung      \n",
      "[373] {pro}                      apple        \n",
      "[374] {galaxy}                   samsung      \n",
      "[375] {}                         battery      \n",
      "[376] {pro}                      deal         \n",
      "[377] {}                         pro          \n",
      "[378] {}                         review       \n",
      "[379] {}                         galaxy       \n",
      "[380] {galaxy}                   samsung      \n",
      "[381] {new, power}               pro          \n",
      "[382] {}                         pro          \n",
      "[383] {}                         pro          \n",
      "[384] {}                         power        \n",
      "[385] {}                         review       \n",
      "[386] {}                         electric     \n",
      "[387] {power}                    review       \n",
      "[388] {battery}                  ev           \n",
      "[389] {electric}                 ev           \n",
      "[390] {car}                      electric     \n",
      "[391] {}                         review       \n",
      "[392] {}                         battery      \n",
      "[393] {battery}                  new          \n",
      "[394] {reserve}                  speed        \n",
      "[395] {}                         reserve      \n",
      "[396] {}                         speed        \n",
      "[397] {apple}                    best         \n",
      "[398] {phone}                    best         \n",
      "[399] {car}                      electric     \n",
      "[400] {electric}                 new          \n",
      "[401] {}                         car          \n",
      "[402] {car, new}                 new          \n",
      "[403] {}                         ev           \n",
      "[404] {ev}                       ev           \n",
      "[405] {}                         ev           \n",
      "[406] {}                         ev           \n",
      "[407] {}                         electric     \n",
      "[408] {}                         ev           \n",
      "[409] {car, electric}            car          \n",
      "[410] {}                         new          \n",
      "[411] {}                         review       \n",
      "[412] {}                         ev           \n",
      "[413] {car}                      electric     \n",
      "[414] {}                         car          \n",
      "[415] {}                         car          \n",
      "[416] {}                         ev           \n",
      "[417] {}                         new          \n",
      "[418] {}                         u            \n",
      "[419] {}                         new          \n",
      "[420] {portable}                 new          \n",
      "[421] {portable, power}          power        \n",
      "[422] {}                         portable     \n",
      "[423] {}                         power        \n",
      "[424] {}                         power        \n",
      "[425] {}                         power        \n",
      "[426] {}                         power        \n",
      "[427] {pro}                      u            \n",
      "[428] {portable}                 market       \n",
      "[429] {}                         new          \n",
      "[430] {power}                    best         \n",
      "[431] {power}                    portable     \n",
      "[432] {}                         electric     \n"
     ]
    }
   ],
   "source": [
    "inspect(data)"
   ]
  },
  {
   "cell_type": "code",
   "execution_count": 29,
   "metadata": {
    "vscode": {
     "languageId": "r"
    }
   },
   "outputs": [
    {
     "name": "stdout",
     "output_type": "stream",
     "text": [
      "     lhs                  rhs       support     confidence coverage   \n",
      "[1]  {speed}           => {battery} 0.004629630 0.66666667 0.006944444\n",
      "[2]  {portable}        => {battery} 0.002314815 0.09090909 0.025462963\n",
      "[3]  {market}          => {battery} 0.002314815 0.08333333 0.027777778\n",
      "[4]  {ev}              => {battery} 0.002314815 0.07142857 0.032407407\n",
      "[5]  {new}             => {battery} 0.002314815 0.08333333 0.027777778\n",
      "[6]  {iphone}          => {battery} 0.018518519 0.61538462 0.030092593\n",
      "[7]  {galaxy}          => {battery} 0.004629630 0.11111111 0.041666667\n",
      "[8]  {power}           => {battery} 0.004629630 0.10526316 0.043981481\n",
      "[9]  {portable, power} => {battery} 0.002314815 0.33333333 0.006944444\n",
      "[10] {iphone, new}     => {battery} 0.002314815 1.00000000 0.002314815\n",
      "     lift       count\n",
      "[1]   9.2903226 2    \n",
      "[2]   1.2668622 1    \n",
      "[3]   1.1612903 1    \n",
      "[4]   0.9953917 1    \n",
      "[5]   1.1612903 1    \n",
      "[6]   8.5756824 8    \n",
      "[7]   1.5483871 2    \n",
      "[8]   1.4668930 2    \n",
      "[9]   4.6451613 1    \n",
      "[10] 13.9354839 1    \n"
     ]
    }
   ],
   "source": [
    "rules <- apriori(data=data,parameter = list(supp=.001, conf=.001, minlen=2),\n",
    "                     appearance = list(default=\"lhs\", rhs=\"battery\"),\n",
    "                     control=list(verbose=FALSE))\n",
    "# BeerRules <- sort(BeerRules, decreasing=TRUE, by=\"confidence\")\n",
    "inspect(rules)                                               "
   ]
  },
  {
   "cell_type": "code",
   "execution_count": 40,
   "metadata": {
    "vscode": {
     "languageId": "r"
    }
   },
   "outputs": [
    {
     "data": {
      "image/png": "[encoded data removed]",
      "text/plain": [
       "plot without title"
      ]
     },
     "metadata": {
      "image/png": {
       "height": 420,
       "width": 420
      }
     },
     "output_type": "display_data"
    }
   ],
   "source": [
    "rules <- head(sort(rules, by=\"lift\"))\n",
    "plot(rules,method = \"graph\")  "
   ]
  },
  {
   "cell_type": "code",
   "execution_count": 30,
   "metadata": {
    "vscode": {
     "languageId": "r"
    }
   },
   "outputs": [
    {
     "name": "stdout",
     "output_type": "stream",
     "text": [
      "     lhs                  rhs       support     confidence coverage   \n",
      "[1]  {iphone, new}     => {battery} 0.002314815 1.00000000 0.002314815\n",
      "[2]  {speed}           => {battery} 0.004629630 0.66666667 0.006944444\n",
      "[3]  {iphone}          => {battery} 0.018518519 0.61538462 0.030092593\n",
      "[4]  {portable, power} => {battery} 0.002314815 0.33333333 0.006944444\n",
      "[5]  {galaxy}          => {battery} 0.004629630 0.11111111 0.041666667\n",
      "[6]  {power}           => {battery} 0.004629630 0.10526316 0.043981481\n",
      "[7]  {portable}        => {battery} 0.002314815 0.09090909 0.025462963\n",
      "[8]  {market}          => {battery} 0.002314815 0.08333333 0.027777778\n",
      "[9]  {new}             => {battery} 0.002314815 0.08333333 0.027777778\n",
      "[10] {ev}              => {battery} 0.002314815 0.07142857 0.032407407\n",
      "     lift       count\n",
      "[1]  13.9354839 1    \n",
      "[2]   9.2903226 2    \n",
      "[3]   8.5756824 8    \n",
      "[4]   4.6451613 1    \n",
      "[5]   1.5483871 2    \n",
      "[6]   1.4668930 2    \n",
      "[7]   1.2668622 1    \n",
      "[8]   1.1612903 1    \n",
      "[9]   1.1612903 1    \n",
      "[10]  0.9953917 1    \n"
     ]
    }
   ],
   "source": [
    "conf_rules <- sort(rules, decreasing=TRUE, by=\"confidence\")\n",
    "inspect(conf_rules[1:10])     "
   ]
  },
  {
   "cell_type": "code",
   "execution_count": 31,
   "metadata": {
    "vscode": {
     "languageId": "r"
    }
   },
   "outputs": [
    {
     "name": "stdout",
     "output_type": "stream",
     "text": [
      "     lhs                  rhs       support     confidence coverage   \n",
      "[1]  {iphone, new}     => {battery} 0.002314815 1.00000000 0.002314815\n",
      "[2]  {speed}           => {battery} 0.004629630 0.66666667 0.006944444\n",
      "[3]  {iphone}          => {battery} 0.018518519 0.61538462 0.030092593\n",
      "[4]  {portable, power} => {battery} 0.002314815 0.33333333 0.006944444\n",
      "[5]  {galaxy}          => {battery} 0.004629630 0.11111111 0.041666667\n",
      "[6]  {power}           => {battery} 0.004629630 0.10526316 0.043981481\n",
      "[7]  {portable}        => {battery} 0.002314815 0.09090909 0.025462963\n",
      "[8]  {market}          => {battery} 0.002314815 0.08333333 0.027777778\n",
      "[9]  {new}             => {battery} 0.002314815 0.08333333 0.027777778\n",
      "[10] {ev}              => {battery} 0.002314815 0.07142857 0.032407407\n",
      "     lift       count\n",
      "[1]  13.9354839 1    \n",
      "[2]   9.2903226 2    \n",
      "[3]   8.5756824 8    \n",
      "[4]   4.6451613 1    \n",
      "[5]   1.5483871 2    \n",
      "[6]   1.4668930 2    \n",
      "[7]   1.2668622 1    \n",
      "[8]   1.1612903 1    \n",
      "[9]   1.1612903 1    \n",
      "[10]  0.9953917 1    \n"
     ]
    }
   ],
   "source": [
    "lift_rules <- sort(rules, decreasing=TRUE, by=\"lift\")\n",
    "inspect(lift_rules[1:10])     "
   ]
  },
  {
   "cell_type": "code",
   "execution_count": 32,
   "metadata": {
    "vscode": {
     "languageId": "r"
    }
   },
   "outputs": [
    {
     "name": "stdout",
     "output_type": "stream",
     "text": [
      "     lhs                  rhs       support     confidence coverage   \n",
      "[1]  {iphone}          => {battery} 0.018518519 0.61538462 0.030092593\n",
      "[2]  {speed}           => {battery} 0.004629630 0.66666667 0.006944444\n",
      "[3]  {galaxy}          => {battery} 0.004629630 0.11111111 0.041666667\n",
      "[4]  {power}           => {battery} 0.004629630 0.10526316 0.043981481\n",
      "[5]  {portable}        => {battery} 0.002314815 0.09090909 0.025462963\n",
      "[6]  {market}          => {battery} 0.002314815 0.08333333 0.027777778\n",
      "[7]  {ev}              => {battery} 0.002314815 0.07142857 0.032407407\n",
      "[8]  {new}             => {battery} 0.002314815 0.08333333 0.027777778\n",
      "[9]  {portable, power} => {battery} 0.002314815 0.33333333 0.006944444\n",
      "[10] {iphone, new}     => {battery} 0.002314815 1.00000000 0.002314815\n",
      "     lift       count\n",
      "[1]   8.5756824 8    \n",
      "[2]   9.2903226 2    \n",
      "[3]   1.5483871 2    \n",
      "[4]   1.4668930 2    \n",
      "[5]   1.2668622 1    \n",
      "[6]   1.1612903 1    \n",
      "[7]   0.9953917 1    \n",
      "[8]   1.1612903 1    \n",
      "[9]   4.6451613 1    \n",
      "[10] 13.9354839 1    \n"
     ]
    }
   ],
   "source": [
    "supp_rules <- sort(rules, decreasing=TRUE, by=\"support\")\n",
    "inspect(supp_rules[1:10])     "
   ]
  },
  {
   "cell_type": "code",
   "execution_count": 36,
   "metadata": {
    "vscode": {
     "languageId": "r"
    }
   },
   "outputs": [
    {
     "data": {
      "image/png": "[encoded data removed]",
      "text/plain": [
       "plot without title"
      ]
     },
     "metadata": {
      "image/png": {
       "height": 420,
       "width": 420
      }
     },
     "output_type": "display_data"
    }
   ],
   "source": [
    "rules <- apriori(data=data,parameter = list(supp=.001, conf=.001, minlen=2),\n",
    "                     appearance = list(default=\"rhs\", lhs=\"iphone\"),\n",
    "                     control=list(verbose=FALSE))\n",
    "subrules <- head(sort(rules, by=\"lift\"))\n",
    "plot(subrules,method = \"graph\")                                            "
   ]
  },
  {
   "cell_type": "code",
   "execution_count": 37,
   "metadata": {
    "vscode": {
     "languageId": "r"
    }
   },
   "outputs": [
    {
     "data": {
      "image/png": "[encoded data removed]",
      "text/plain": [
       "plot without title"
      ]
     },
     "metadata": {
      "image/png": {
       "height": 420,
       "width": 420
      }
     },
     "output_type": "display_data"
    }
   ],
   "source": [
    "rules <- apriori(data=data,parameter = list(supp=.001, conf=.01, minlen=2),\n",
    "                     appearance = list(default=\"rhs\", lhs=\"galaxy\"),\n",
    "                     control=list(verbose=FALSE))\n",
    "subrules <- head(sort(rules, by=\"lift\"))\n",
    "plot(subrules,method = \"graph\")"
   ]
  },
  {
   "cell_type": "code",
   "execution_count": 39,
   "metadata": {
    "vscode": {
     "languageId": "r"
    }
   },
   "outputs": [
    {
     "data": {
      "image/png": "[encoded data removed]",
      "text/plain": [
       "plot without title"
      ]
     },
     "metadata": {
      "image/png": {
       "height": 420,
       "width": 420
      }
     },
     "output_type": "display_data"
    }
   ],
   "source": [
    "rules <- apriori(data=data,parameter = list(supp=.001, conf=.01, minlen=2),\n",
    "                     appearance = list(default=\"rhs\", lhs=\"ev\"),\n",
    "                     control=list(verbose=FALSE))\n",
    "subrules <- head(sort(rules, by=\"lift\"))\n",
    "plot(subrules,method = \"graph\")                                         "
   ]
  },
  {
   "cell_type": "code",
   "execution_count": null,
   "metadata": {
    "vscode": {
     "languageId": "r"
    }
   },
   "outputs": [],
   "source": []
  },
  {
   "cell_type": "code",
   "execution_count": null,
   "metadata": {
    "vscode": {
     "languageId": "r"
    }
   },
   "outputs": [],
   "source": []
  }
 ],
 "metadata": {
  "kernelspec": {
   "display_name": "R",
   "language": "R",
   "name": "ir"
  },
  "language_info": {
   "codemirror_mode": "r",
   "file_extension": ".r",
   "mimetype": "text/x-r-source",
   "name": "R",
   "pygments_lexer": "r",
   "version": "4.3.2"
  }
 },
 "nbformat": 4,
 "nbformat_minor": 2
}
